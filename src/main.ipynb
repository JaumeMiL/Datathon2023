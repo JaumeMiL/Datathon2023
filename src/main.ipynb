{
 "cells": [
  {
   "cell_type": "markdown",
   "metadata": {},
   "source": [
    "# **DATATHON 2023: NTT-DATA CHALLENGE**"
   ]
  },
  {
   "cell_type": "markdown",
   "metadata": {},
   "source": [
    "## **Requirements**:"
   ]
  },
  {
   "cell_type": "code",
   "execution_count": 1,
   "metadata": {},
   "outputs": [
    {
     "name": "stdout",
     "output_type": "stream",
     "text": [
      "Defaulting to user installation because normal site-packages is not writeable\n",
      "Requirement already satisfied: numpy in /Users/jaumemil/Library/Python/3.11/lib/python/site-packages (from -r requirements.txt (line 1)) (1.25.0)\n",
      "Requirement already satisfied: pandas in /Users/jaumemil/Library/Python/3.11/lib/python/site-packages (from -r requirements.txt (line 2)) (2.1.3)\n",
      "Requirement already satisfied: matplotlib in /Users/jaumemil/Library/Python/3.11/lib/python/site-packages (from -r requirements.txt (line 3)) (3.8.1)\n",
      "Requirement already satisfied: seaborn in /Users/jaumemil/Library/Python/3.11/lib/python/site-packages (from -r requirements.txt (line 4)) (0.13.0)\n",
      "Requirement already satisfied: scikit-learn in /Users/jaumemil/Library/Python/3.11/lib/python/site-packages (from -r requirements.txt (line 5)) (1.3.1)\n",
      "Requirement already satisfied: statsmodels in /Users/jaumemil/Library/Python/3.11/lib/python/site-packages (from -r requirements.txt (line 6)) (0.14.0)\n",
      "Requirement already satisfied: openpyxl in /Users/jaumemil/Library/Python/3.11/lib/python/site-packages (from -r requirements.txt (line 7)) (3.1.2)\n",
      "Requirement already satisfied: python-dateutil>=2.8.2 in /Users/jaumemil/Library/Python/3.11/lib/python/site-packages (from pandas->-r requirements.txt (line 2)) (2.8.2)\n",
      "Requirement already satisfied: pytz>=2020.1 in /Users/jaumemil/Library/Python/3.11/lib/python/site-packages (from pandas->-r requirements.txt (line 2)) (2023.3.post1)\n",
      "Requirement already satisfied: tzdata>=2022.1 in /Users/jaumemil/Library/Python/3.11/lib/python/site-packages (from pandas->-r requirements.txt (line 2)) (2023.3)\n",
      "Requirement already satisfied: contourpy>=1.0.1 in /Users/jaumemil/Library/Python/3.11/lib/python/site-packages (from matplotlib->-r requirements.txt (line 3)) (1.2.0)\n",
      "Requirement already satisfied: cycler>=0.10 in /Users/jaumemil/Library/Python/3.11/lib/python/site-packages (from matplotlib->-r requirements.txt (line 3)) (0.12.1)\n",
      "Requirement already satisfied: fonttools>=4.22.0 in /Users/jaumemil/Library/Python/3.11/lib/python/site-packages (from matplotlib->-r requirements.txt (line 3)) (4.44.0)\n",
      "Requirement already satisfied: kiwisolver>=1.3.1 in /Users/jaumemil/Library/Python/3.11/lib/python/site-packages (from matplotlib->-r requirements.txt (line 3)) (1.4.5)\n",
      "Requirement already satisfied: packaging>=20.0 in /Users/jaumemil/Library/Python/3.11/lib/python/site-packages (from matplotlib->-r requirements.txt (line 3)) (23.2)\n",
      "Requirement already satisfied: pillow>=8 in /Users/jaumemil/Library/Python/3.11/lib/python/site-packages (from matplotlib->-r requirements.txt (line 3)) (10.1.0)\n",
      "Requirement already satisfied: pyparsing>=2.3.1 in /Users/jaumemil/Library/Python/3.11/lib/python/site-packages (from matplotlib->-r requirements.txt (line 3)) (3.1.1)\n",
      "Requirement already satisfied: scipy>=1.5.0 in /Users/jaumemil/Library/Python/3.11/lib/python/site-packages (from scikit-learn->-r requirements.txt (line 5)) (1.11.3)\n",
      "Requirement already satisfied: joblib>=1.1.1 in /Users/jaumemil/Library/Python/3.11/lib/python/site-packages (from scikit-learn->-r requirements.txt (line 5)) (1.3.2)\n",
      "Requirement already satisfied: threadpoolctl>=2.0.0 in /Users/jaumemil/Library/Python/3.11/lib/python/site-packages (from scikit-learn->-r requirements.txt (line 5)) (3.2.0)\n",
      "Requirement already satisfied: patsy>=0.5.2 in /Users/jaumemil/Library/Python/3.11/lib/python/site-packages (from statsmodels->-r requirements.txt (line 6)) (0.5.3)\n",
      "Requirement already satisfied: et-xmlfile in /Users/jaumemil/Library/Python/3.11/lib/python/site-packages (from openpyxl->-r requirements.txt (line 7)) (1.1.0)\n",
      "Requirement already satisfied: six in /Users/jaumemil/Library/Python/3.11/lib/python/site-packages (from patsy>=0.5.2->statsmodels->-r requirements.txt (line 6)) (1.16.0)\n",
      "\n",
      "\u001b[1m[\u001b[0m\u001b[34;49mnotice\u001b[0m\u001b[1;39;49m]\u001b[0m\u001b[39;49m A new release of pip is available: \u001b[0m\u001b[31;49m23.2.1\u001b[0m\u001b[39;49m -> \u001b[0m\u001b[32;49m23.3.1\u001b[0m\n",
      "\u001b[1m[\u001b[0m\u001b[34;49mnotice\u001b[0m\u001b[1;39;49m]\u001b[0m\u001b[39;49m To update, run: \u001b[0m\u001b[32;49mpython3.11 -m pip install --upgrade pip\u001b[0m\n",
      "Note: you may need to restart the kernel to use updated packages.\n"
     ]
    }
   ],
   "source": [
    "%pip install -r requirements.txt "
   ]
  },
  {
   "cell_type": "markdown",
   "metadata": {},
   "source": [
    "## **Imports**"
   ]
  },
  {
   "cell_type": "code",
   "execution_count": 2,
   "metadata": {},
   "outputs": [],
   "source": [
    "import pandas as pd\n",
    "import numpy as np\n",
    "from sklearn.model_selection import train_test_split, GridSearchCV\n",
    "from sklearn.ensemble import RandomForestRegressor\n",
    "from sklearn.metrics import mean_squared_error\n",
    "from statsmodels.tsa.arima_model import ARIMA\n",
    "import matplotlib.pyplot as plt\n",
    "import seaborn as sns"
   ]
  },
  {
   "cell_type": "markdown",
   "metadata": {},
   "source": [
    "## **Main Program**"
   ]
  },
  {
   "cell_type": "markdown",
   "metadata": {},
   "source": [
    "Read dataset"
   ]
  },
  {
   "cell_type": "code",
   "execution_count": 3,
   "metadata": {},
   "outputs": [
    {
     "data": {
      "text/html": [
       "<div>\n",
       "<style scoped>\n",
       "    .dataframe tbody tr th:only-of-type {\n",
       "        vertical-align: middle;\n",
       "    }\n",
       "\n",
       "    .dataframe tbody tr th {\n",
       "        vertical-align: top;\n",
       "    }\n",
       "\n",
       "    .dataframe thead th {\n",
       "        text-align: right;\n",
       "    }\n",
       "</style>\n",
       "<table border=\"1\" class=\"dataframe\">\n",
       "  <thead>\n",
       "    <tr style=\"text-align: right;\">\n",
       "      <th></th>\n",
       "      <th>CODIGO</th>\n",
       "      <th>FECHAPEDIDO</th>\n",
       "      <th>NUMERO</th>\n",
       "      <th>REFERENCIA</th>\n",
       "      <th>CANTIDADCOMPRA</th>\n",
       "      <th>UNIDADESCONSUMOCONTENIDAS</th>\n",
       "      <th>PRECIO</th>\n",
       "      <th>IMPORTELINEA</th>\n",
       "      <th>TIPOCOMPRA</th>\n",
       "      <th>ORIGEN</th>\n",
       "      <th>TGL</th>\n",
       "      <th>PRODUCTO</th>\n",
       "    </tr>\n",
       "  </thead>\n",
       "  <tbody>\n",
       "    <tr>\n",
       "      <th>0</th>\n",
       "      <td>E99808</td>\n",
       "      <td>01/01/23</td>\n",
       "      <td>1595724/23</td>\n",
       "      <td>178567.1</td>\n",
       "      <td>60</td>\n",
       "      <td>10</td>\n",
       "      <td>62.590000</td>\n",
       "      <td>375.540000</td>\n",
       "      <td>Compra menor</td>\n",
       "      <td>1-2-60</td>\n",
       "      <td>TRANSITO</td>\n",
       "      <td>APOSITO DE FIBRAS DE POLIACRILATO C/PLATA-3</td>\n",
       "    </tr>\n",
       "    <tr>\n",
       "      <th>1</th>\n",
       "      <td>B41691</td>\n",
       "      <td>01/02/16</td>\n",
       "      <td>72714/16</td>\n",
       "      <td>400403</td>\n",
       "      <td>40</td>\n",
       "      <td>10</td>\n",
       "      <td>102.803729</td>\n",
       "      <td>411.214916</td>\n",
       "      <td>Compra menor</td>\n",
       "      <td>0-10-1</td>\n",
       "      <td>ALMACENABLE</td>\n",
       "      <td>SOLUCION P/ LIMPIEZA Y DESCONTAMINACION DE HER...</td>\n",
       "    </tr>\n",
       "    <tr>\n",
       "      <th>2</th>\n",
       "      <td>E64543</td>\n",
       "      <td>01/02/16</td>\n",
       "      <td>71961/16</td>\n",
       "      <td>403770</td>\n",
       "      <td>20</td>\n",
       "      <td>5</td>\n",
       "      <td>12.100000</td>\n",
       "      <td>48.400000</td>\n",
       "      <td>Compra menor</td>\n",
       "      <td>0-4-111</td>\n",
       "      <td>TRANSITO</td>\n",
       "      <td>APOSITO DE HIDROFIBRA  / CINTA-18</td>\n",
       "    </tr>\n",
       "    <tr>\n",
       "      <th>3</th>\n",
       "      <td>E65007</td>\n",
       "      <td>01/02/16</td>\n",
       "      <td>72773/16</td>\n",
       "      <td>20415</td>\n",
       "      <td>100</td>\n",
       "      <td>50</td>\n",
       "      <td>215.325000</td>\n",
       "      <td>430.650000</td>\n",
       "      <td>Concurso</td>\n",
       "      <td>0-10-1</td>\n",
       "      <td>ALMACENABLE</td>\n",
       "      <td>APOSITO DE ESPUMA POLIURETANO / SACRO-11</td>\n",
       "    </tr>\n",
       "    <tr>\n",
       "      <th>4</th>\n",
       "      <td>E64911</td>\n",
       "      <td>01/02/17</td>\n",
       "      <td>86159/17</td>\n",
       "      <td>20701</td>\n",
       "      <td>300</td>\n",
       "      <td>300</td>\n",
       "      <td>792.000000</td>\n",
       "      <td>792.000000</td>\n",
       "      <td>Concurso</td>\n",
       "      <td>0-6-1</td>\n",
       "      <td>ALMACENABLE</td>\n",
       "      <td>APOSITO C/ CARBON Y PLATA-6</td>\n",
       "    </tr>\n",
       "  </tbody>\n",
       "</table>\n",
       "</div>"
      ],
      "text/plain": [
       "   CODIGO FECHAPEDIDO      NUMERO REFERENCIA  CANTIDADCOMPRA  \\\n",
       "0  E99808    01/01/23  1595724/23   178567.1              60   \n",
       "1  B41691    01/02/16    72714/16     400403              40   \n",
       "2  E64543    01/02/16    71961/16     403770              20   \n",
       "3  E65007    01/02/16    72773/16      20415             100   \n",
       "4  E64911    01/02/17    86159/17      20701             300   \n",
       "\n",
       "   UNIDADESCONSUMOCONTENIDAS      PRECIO  IMPORTELINEA    TIPOCOMPRA   ORIGEN  \\\n",
       "0                         10   62.590000    375.540000  Compra menor   1-2-60   \n",
       "1                         10  102.803729    411.214916  Compra menor   0-10-1   \n",
       "2                          5   12.100000     48.400000  Compra menor  0-4-111   \n",
       "3                         50  215.325000    430.650000      Concurso   0-10-1   \n",
       "4                        300  792.000000    792.000000      Concurso    0-6-1   \n",
       "\n",
       "           TGL                                           PRODUCTO  \n",
       "0     TRANSITO        APOSITO DE FIBRAS DE POLIACRILATO C/PLATA-3  \n",
       "1  ALMACENABLE  SOLUCION P/ LIMPIEZA Y DESCONTAMINACION DE HER...  \n",
       "2     TRANSITO                  APOSITO DE HIDROFIBRA  / CINTA-18  \n",
       "3  ALMACENABLE           APOSITO DE ESPUMA POLIURETANO / SACRO-11  \n",
       "4  ALMACENABLE                        APOSITO C/ CARBON Y PLATA-6  "
      ]
     },
     "execution_count": 3,
     "metadata": {},
     "output_type": "execute_result"
    }
   ],
   "source": [
    "df = pd.read_excel('../assets/consumo_material_clean.xlsx')\n",
    "df.head()"
   ]
  },
  {
   "cell_type": "markdown",
   "metadata": {},
   "source": [
    "Convert date to datetime:"
   ]
  },
  {
   "cell_type": "code",
   "execution_count": 4,
   "metadata": {},
   "outputs": [
    {
     "data": {
      "text/html": [
       "<div>\n",
       "<style scoped>\n",
       "    .dataframe tbody tr th:only-of-type {\n",
       "        vertical-align: middle;\n",
       "    }\n",
       "\n",
       "    .dataframe tbody tr th {\n",
       "        vertical-align: top;\n",
       "    }\n",
       "\n",
       "    .dataframe thead th {\n",
       "        text-align: right;\n",
       "    }\n",
       "</style>\n",
       "<table border=\"1\" class=\"dataframe\">\n",
       "  <thead>\n",
       "    <tr style=\"text-align: right;\">\n",
       "      <th></th>\n",
       "      <th>CODIGO</th>\n",
       "      <th>FECHAPEDIDO</th>\n",
       "      <th>NUMERO</th>\n",
       "      <th>REFERENCIA</th>\n",
       "      <th>CANTIDADCOMPRA</th>\n",
       "      <th>UNIDADESCONSUMOCONTENIDAS</th>\n",
       "      <th>PRECIO</th>\n",
       "      <th>IMPORTELINEA</th>\n",
       "      <th>TIPOCOMPRA</th>\n",
       "      <th>ORIGEN</th>\n",
       "      <th>TGL</th>\n",
       "      <th>PRODUCTO</th>\n",
       "    </tr>\n",
       "  </thead>\n",
       "  <tbody>\n",
       "    <tr>\n",
       "      <th>0</th>\n",
       "      <td>E99808</td>\n",
       "      <td>2023-01-01</td>\n",
       "      <td>1595724/23</td>\n",
       "      <td>178567.1</td>\n",
       "      <td>60</td>\n",
       "      <td>10</td>\n",
       "      <td>62.590000</td>\n",
       "      <td>375.540000</td>\n",
       "      <td>Compra menor</td>\n",
       "      <td>1-2-60</td>\n",
       "      <td>TRANSITO</td>\n",
       "      <td>APOSITO DE FIBRAS DE POLIACRILATO C/PLATA-3</td>\n",
       "    </tr>\n",
       "    <tr>\n",
       "      <th>1</th>\n",
       "      <td>B41691</td>\n",
       "      <td>2016-02-01</td>\n",
       "      <td>72714/16</td>\n",
       "      <td>400403</td>\n",
       "      <td>40</td>\n",
       "      <td>10</td>\n",
       "      <td>102.803729</td>\n",
       "      <td>411.214916</td>\n",
       "      <td>Compra menor</td>\n",
       "      <td>0-10-1</td>\n",
       "      <td>ALMACENABLE</td>\n",
       "      <td>SOLUCION P/ LIMPIEZA Y DESCONTAMINACION DE HER...</td>\n",
       "    </tr>\n",
       "    <tr>\n",
       "      <th>2</th>\n",
       "      <td>E64543</td>\n",
       "      <td>2016-02-01</td>\n",
       "      <td>71961/16</td>\n",
       "      <td>403770</td>\n",
       "      <td>20</td>\n",
       "      <td>5</td>\n",
       "      <td>12.100000</td>\n",
       "      <td>48.400000</td>\n",
       "      <td>Compra menor</td>\n",
       "      <td>0-4-111</td>\n",
       "      <td>TRANSITO</td>\n",
       "      <td>APOSITO DE HIDROFIBRA  / CINTA-18</td>\n",
       "    </tr>\n",
       "    <tr>\n",
       "      <th>3</th>\n",
       "      <td>E65007</td>\n",
       "      <td>2016-02-01</td>\n",
       "      <td>72773/16</td>\n",
       "      <td>20415</td>\n",
       "      <td>100</td>\n",
       "      <td>50</td>\n",
       "      <td>215.325000</td>\n",
       "      <td>430.650000</td>\n",
       "      <td>Concurso</td>\n",
       "      <td>0-10-1</td>\n",
       "      <td>ALMACENABLE</td>\n",
       "      <td>APOSITO DE ESPUMA POLIURETANO / SACRO-11</td>\n",
       "    </tr>\n",
       "    <tr>\n",
       "      <th>4</th>\n",
       "      <td>E64911</td>\n",
       "      <td>2017-02-01</td>\n",
       "      <td>86159/17</td>\n",
       "      <td>20701</td>\n",
       "      <td>300</td>\n",
       "      <td>300</td>\n",
       "      <td>792.000000</td>\n",
       "      <td>792.000000</td>\n",
       "      <td>Concurso</td>\n",
       "      <td>0-6-1</td>\n",
       "      <td>ALMACENABLE</td>\n",
       "      <td>APOSITO C/ CARBON Y PLATA-6</td>\n",
       "    </tr>\n",
       "  </tbody>\n",
       "</table>\n",
       "</div>"
      ],
      "text/plain": [
       "   CODIGO FECHAPEDIDO      NUMERO REFERENCIA  CANTIDADCOMPRA  \\\n",
       "0  E99808  2023-01-01  1595724/23   178567.1              60   \n",
       "1  B41691  2016-02-01    72714/16     400403              40   \n",
       "2  E64543  2016-02-01    71961/16     403770              20   \n",
       "3  E65007  2016-02-01    72773/16      20415             100   \n",
       "4  E64911  2017-02-01    86159/17      20701             300   \n",
       "\n",
       "   UNIDADESCONSUMOCONTENIDAS      PRECIO  IMPORTELINEA    TIPOCOMPRA   ORIGEN  \\\n",
       "0                         10   62.590000    375.540000  Compra menor   1-2-60   \n",
       "1                         10  102.803729    411.214916  Compra menor   0-10-1   \n",
       "2                          5   12.100000     48.400000  Compra menor  0-4-111   \n",
       "3                         50  215.325000    430.650000      Concurso   0-10-1   \n",
       "4                        300  792.000000    792.000000      Concurso    0-6-1   \n",
       "\n",
       "           TGL                                           PRODUCTO  \n",
       "0     TRANSITO        APOSITO DE FIBRAS DE POLIACRILATO C/PLATA-3  \n",
       "1  ALMACENABLE  SOLUCION P/ LIMPIEZA Y DESCONTAMINACION DE HER...  \n",
       "2     TRANSITO                  APOSITO DE HIDROFIBRA  / CINTA-18  \n",
       "3  ALMACENABLE           APOSITO DE ESPUMA POLIURETANO / SACRO-11  \n",
       "4  ALMACENABLE                        APOSITO C/ CARBON Y PLATA-6  "
      ]
     },
     "execution_count": 4,
     "metadata": {},
     "output_type": "execute_result"
    }
   ],
   "source": [
    "# Categorical variables\n",
    "df['FECHAPEDIDO'] = pd.to_datetime(df['FECHAPEDIDO'], format='%d/%m/%y')\n",
    "df['CODIGO'] = df['CODIGO'].astype('category')\n",
    "df['PRODUCTO'] = df['PRODUCTO'].astype('category')\n",
    "df['NUMERO'] = df['NUMERO'].astype('category')\n",
    "df['REFERENCIA'] = df['REFERENCIA'].astype('category')\n",
    "df['TIPOCOMPRA'] = df['TIPOCOMPRA'].astype('category')\n",
    "df['ORIGEN'] = df['ORIGEN'].astype('category')\n",
    "df['TGL'] = df['TGL'].astype('category')\n",
    "\n",
    "# Numeric variables\n",
    "df['CANTIDADCOMPRA'] = df['CANTIDADCOMPRA'].astype('int')\n",
    "df['UNIDADESCONSUMOCONTENIDAS'] = df['UNIDADESCONSUMOCONTENIDAS'].astype('int')\n",
    "df['PRECIO'] = df['PRECIO'].astype('float')\n",
    "df['IMPORTELINEA'] = df['IMPORTELINEA'].astype('float')\n",
    "\n",
    "df.head()"
   ]
  },
  {
   "cell_type": "markdown",
   "metadata": {},
   "source": [
    "New dataset with the important variables to train/predict"
   ]
  },
  {
   "cell_type": "code",
   "execution_count": 5,
   "metadata": {},
   "outputs": [
    {
     "name": "stdout",
     "output_type": "stream",
     "text": [
      "PRODUCTO          category\n",
      "TIPOCOMPRA        category\n",
      "CANTIDADCOMPRA       int64\n",
      "IMPORTELINEA       float64\n",
      "MES                  int32\n",
      "AÑO                  int32\n",
      "dtype: object\n"
     ]
    },
    {
     "data": {
      "text/html": [
       "<div>\n",
       "<style scoped>\n",
       "    .dataframe tbody tr th:only-of-type {\n",
       "        vertical-align: middle;\n",
       "    }\n",
       "\n",
       "    .dataframe tbody tr th {\n",
       "        vertical-align: top;\n",
       "    }\n",
       "\n",
       "    .dataframe thead th {\n",
       "        text-align: right;\n",
       "    }\n",
       "</style>\n",
       "<table border=\"1\" class=\"dataframe\">\n",
       "  <thead>\n",
       "    <tr style=\"text-align: right;\">\n",
       "      <th></th>\n",
       "      <th>PRODUCTO</th>\n",
       "      <th>TIPOCOMPRA</th>\n",
       "      <th>CANTIDADCOMPRA</th>\n",
       "      <th>IMPORTELINEA</th>\n",
       "      <th>MES</th>\n",
       "      <th>AÑO</th>\n",
       "    </tr>\n",
       "  </thead>\n",
       "  <tbody>\n",
       "    <tr>\n",
       "      <th>0</th>\n",
       "      <td>APOSITO DE FIBRAS DE POLIACRILATO C/PLATA-3</td>\n",
       "      <td>Compra menor</td>\n",
       "      <td>60</td>\n",
       "      <td>375.540000</td>\n",
       "      <td>1</td>\n",
       "      <td>2023</td>\n",
       "    </tr>\n",
       "    <tr>\n",
       "      <th>1</th>\n",
       "      <td>SOLUCION P/ LIMPIEZA Y DESCONTAMINACION DE HER...</td>\n",
       "      <td>Compra menor</td>\n",
       "      <td>40</td>\n",
       "      <td>411.214916</td>\n",
       "      <td>2</td>\n",
       "      <td>2016</td>\n",
       "    </tr>\n",
       "    <tr>\n",
       "      <th>2</th>\n",
       "      <td>APOSITO DE HIDROFIBRA  / CINTA-18</td>\n",
       "      <td>Compra menor</td>\n",
       "      <td>20</td>\n",
       "      <td>48.400000</td>\n",
       "      <td>2</td>\n",
       "      <td>2016</td>\n",
       "    </tr>\n",
       "    <tr>\n",
       "      <th>3</th>\n",
       "      <td>APOSITO DE ESPUMA POLIURETANO / SACRO-11</td>\n",
       "      <td>Concurso</td>\n",
       "      <td>100</td>\n",
       "      <td>430.650000</td>\n",
       "      <td>2</td>\n",
       "      <td>2016</td>\n",
       "    </tr>\n",
       "    <tr>\n",
       "      <th>4</th>\n",
       "      <td>APOSITO C/ CARBON Y PLATA-6</td>\n",
       "      <td>Concurso</td>\n",
       "      <td>300</td>\n",
       "      <td>792.000000</td>\n",
       "      <td>2</td>\n",
       "      <td>2017</td>\n",
       "    </tr>\n",
       "  </tbody>\n",
       "</table>\n",
       "</div>"
      ],
      "text/plain": [
       "                                            PRODUCTO    TIPOCOMPRA  \\\n",
       "0        APOSITO DE FIBRAS DE POLIACRILATO C/PLATA-3  Compra menor   \n",
       "1  SOLUCION P/ LIMPIEZA Y DESCONTAMINACION DE HER...  Compra menor   \n",
       "2                  APOSITO DE HIDROFIBRA  / CINTA-18  Compra menor   \n",
       "3           APOSITO DE ESPUMA POLIURETANO / SACRO-11      Concurso   \n",
       "4                        APOSITO C/ CARBON Y PLATA-6      Concurso   \n",
       "\n",
       "   CANTIDADCOMPRA  IMPORTELINEA  MES   AÑO  \n",
       "0              60    375.540000    1  2023  \n",
       "1              40    411.214916    2  2016  \n",
       "2              20     48.400000    2  2016  \n",
       "3             100    430.650000    2  2016  \n",
       "4             300    792.000000    2  2017  "
      ]
     },
     "execution_count": 5,
     "metadata": {},
     "output_type": "execute_result"
    }
   ],
   "source": [
    "new_df = df[['PRODUCTO', 'FECHAPEDIDO', 'TIPOCOMPRA', 'CANTIDADCOMPRA', 'IMPORTELINEA']].copy()\n",
    "\n",
    "new_df['MES'] = new_df['FECHAPEDIDO'].dt.month\n",
    "new_df['AÑO'] = new_df['FECHAPEDIDO'].dt.year\n",
    "new_df = new_df.drop('FECHAPEDIDO', axis=1)\n",
    "\n",
    "print(new_df.dtypes)\n",
    "\n",
    "new_df.head()"
   ]
  },
  {
   "cell_type": "markdown",
   "metadata": {},
   "source": [
    "Group by product, year, month and type of purchase"
   ]
  },
  {
   "cell_type": "code",
   "execution_count": 6,
   "metadata": {},
   "outputs": [],
   "source": [
    "new_df = new_df.groupby(['AÑO', 'MES', 'PRODUCTO', 'TIPOCOMPRA'], observed=True).agg({'CANTIDADCOMPRA': 'sum', 'IMPORTELINEA': 'sum'}).reset_index()\n",
    "\n",
    "new_df.to_csv('../assets/new_df.csv', index=False)\n"
   ]
  },
  {
   "cell_type": "markdown",
   "metadata": {},
   "source": [
    "Split train and test datasets"
   ]
  },
  {
   "cell_type": "code",
   "execution_count": 7,
   "metadata": {},
   "outputs": [],
   "source": [
    "split_year = 2023\n",
    "train = new_df.loc[new_df['AÑO'] < split_year]\n",
    "test = new_df.loc[new_df['AÑO'] >= split_year]"
   ]
  },
  {
   "cell_type": "code",
   "execution_count": 8,
   "metadata": {},
   "outputs": [],
   "source": [
    "train.to_csv('../assets/train.csv', index=False)\n",
    "test.to_csv('../assets/test.csv', index=False)"
   ]
  },
  {
   "cell_type": "code",
   "execution_count": 9,
   "metadata": {},
   "outputs": [
    {
     "data": {
      "text/plain": [
       "512.5163841156719"
      ]
     },
     "execution_count": 9,
     "metadata": {},
     "output_type": "execute_result"
    }
   ],
   "source": [
    "from sklearn.model_selection import train_test_split\n",
    "from sklearn.preprocessing import StandardScaler, OneHotEncoder\n",
    "from sklearn.compose import ColumnTransformer\n",
    "from sklearn.ensemble import RandomForestRegressor\n",
    "from sklearn.pipeline import Pipeline\n",
    "from sklearn.metrics import mean_squared_error\n",
    "import numpy as np\n",
    "\n",
    "# Identificar columnes numèriques i categòriques\n",
    "num_cols = ['AÑO', 'MES']\n",
    "cat_cols = ['PRODUCTO', 'TIPOCOMPRA']  # Podrien necessitar codificació\n",
    "target_col = 'CANTIDADCOMPRA'\n",
    "\n",
    "# Dividir les dades d'entrenament en característiques i objectiu\n",
    "X_train = train.drop(columns=[target_col, 'IMPORTELINEA'])\n",
    "y_train = train[target_col]\n",
    "\n",
    "# Preprocessament: codificació One-Hot per a variables categòriques i escalat per a variables numèriques\n",
    "preprocessor = ColumnTransformer(\n",
    "    transformers=[\n",
    "        ('num', StandardScaler(), num_cols),\n",
    "        ('cat', OneHotEncoder(handle_unknown='ignore'), cat_cols)\n",
    "    ])\n",
    "\n",
    "# Model: Boscos Aleatoris per a regressió multivariable\n",
    "model = RandomForestRegressor(n_estimators=100, random_state=42)\n",
    "\n",
    "# Crear un pipeline amb el preprocessament i el model\n",
    "pipeline = Pipeline(steps=[('preprocessor', preprocessor),\n",
    "                             ('model', model)])\n",
    "\n",
    "# Entrenament del model\n",
    "pipeline.fit(X_train, y_train)\n",
    "\n",
    "# Avaluació del model en el conjunt d'entrenament (utilitzant RMSE)\n",
    "y_pred_train = pipeline.predict(X_train)\n",
    "rmse_train = np.sqrt(mean_squared_error(y_train, y_pred_train))\n",
    "\n",
    "rmse_train\n"
   ]
  },
  {
   "cell_type": "markdown",
   "metadata": {},
   "source": [
    "Preparar los datos de prueba"
   ]
  },
  {
   "cell_type": "code",
   "execution_count": 10,
   "metadata": {},
   "outputs": [
    {
     "ename": "NameError",
     "evalue": "name 'target_cols' is not defined",
     "output_type": "error",
     "traceback": [
      "\u001b[0;31m---------------------------------------------------------------------------\u001b[0m",
      "\u001b[0;31mNameError\u001b[0m                                 Traceback (most recent call last)",
      "\u001b[1;32m/Users/jaumemil/Desktop/IA/2n/Datathon2023/src/main.ipynb Cell 20\u001b[0m line \u001b[0;36m1\n\u001b[0;32m----> <a href='vscode-notebook-cell:/Users/jaumemil/Desktop/IA/2n/Datathon2023/src/main.ipynb#X25sZmlsZQ%3D%3D?line=0'>1</a>\u001b[0m X_test \u001b[39m=\u001b[39m test\u001b[39m.\u001b[39mdrop(columns\u001b[39m=\u001b[39mtarget_cols)\n\u001b[1;32m      <a href='vscode-notebook-cell:/Users/jaumemil/Desktop/IA/2n/Datathon2023/src/main.ipynb#X25sZmlsZQ%3D%3D?line=2'>3</a>\u001b[0m \u001b[39m# Realizar predicciones en el conjunto de prueba\u001b[39;00m\n\u001b[1;32m      <a href='vscode-notebook-cell:/Users/jaumemil/Desktop/IA/2n/Datathon2023/src/main.ipynb#X25sZmlsZQ%3D%3D?line=3'>4</a>\u001b[0m y_pred_test \u001b[39m=\u001b[39m pipeline\u001b[39m.\u001b[39mpredict(X_test)\n",
      "\u001b[0;31mNameError\u001b[0m: name 'target_cols' is not defined"
     ]
    }
   ],
   "source": [
    "X_test = test.drop(columns=target_cols)\n",
    "\n",
    "# Realizar predicciones en el conjunto de prueba\n",
    "y_pred_test = pipeline.predict(X_test)\n",
    "\n",
    "# Convertir las predicciones a un DataFrame para facilitar su visualización\n",
    "y_pred_test_df = pd.DataFrame(y_pred_test, columns=target_cols)\n",
    "\n",
    "y_pred_test_df.head()"
   ]
  },
  {
   "cell_type": "code",
   "execution_count": null,
   "metadata": {},
   "outputs": [],
   "source": []
  }
 ],
 "metadata": {
  "kernelspec": {
   "display_name": "Python 3",
   "language": "python",
   "name": "python3"
  },
  "language_info": {
   "codemirror_mode": {
    "name": "ipython",
    "version": 3
   },
   "file_extension": ".py",
   "mimetype": "text/x-python",
   "name": "python",
   "nbconvert_exporter": "python",
   "pygments_lexer": "ipython3",
   "version": "3.11.2"
  },
  "orig_nbformat": 4
 },
 "nbformat": 4,
 "nbformat_minor": 2
}
